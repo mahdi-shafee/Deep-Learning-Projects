{
  "cells": [
    {
      "cell_type": "markdown",
      "source": [
        "<h1 style=\"text-align: center\">\n",
        "Deep Learning HW2 </br> \n",
        "Image Classification\n",
        "</h1>"
      ],
      "metadata": {
        "id": "XsrcohGwVhLJ"
      }
    },
    {
      "cell_type": "markdown",
      "source": [
        "### Full Name: Mahdi Shafiei\n",
        "### Student ID: 99109409"
      ],
      "metadata": {
        "id": "MLmC7lVpRx8y"
      }
    },
    {
      "cell_type": "markdown",
      "metadata": {
        "papermill": {
          "duration": 0.022376,
          "end_time": "2020-11-06T00:15:34.434234",
          "exception": false,
          "start_time": "2020-11-06T00:15:34.411858",
          "status": "completed"
        },
        "tags": [],
        "id": "atGYO6DvK5NU"
      },
      "source": [
        "## Import needed libraries\n"
      ]
    },
    {
      "cell_type": "code",
      "execution_count": 68,
      "metadata": {
        "execution": {
          "iopub.execute_input": "2020-11-06T00:15:34.484628Z",
          "iopub.status.busy": "2020-11-06T00:15:34.483829Z",
          "iopub.status.idle": "2020-11-06T00:15:35.592124Z",
          "shell.execute_reply": "2020-11-06T00:15:35.591266Z"
        },
        "papermill": {
          "duration": 1.135699,
          "end_time": "2020-11-06T00:15:35.592273",
          "exception": false,
          "start_time": "2020-11-06T00:15:34.456574",
          "status": "completed"
        },
        "tags": [],
        "id": "dIjCFmM1K5NX"
      },
      "outputs": [],
      "source": [
        "import numpy as np\n",
        "import matplotlib.pyplot as plt\n",
        "import seaborn as sns\n",
        "import torch\n",
        "import torchvision\n",
        "import copy\n",
        "import torchvision.transforms as transforms\n",
        "from torch.utils.data import random_split\n",
        "from torch.utils.data.dataloader import DataLoader\n",
        "from tqdm import tqdm\n",
        "from sklearn.metrics import classification_report\n",
        "from torch.autograd import Variable"
      ]
    },
    {
      "cell_type": "markdown",
      "source": [
        "## Loading and Pre-Processing data"
      ],
      "metadata": {
        "id": "_ih2AD9ie1MX"
      }
    },
    {
      "cell_type": "code",
      "source": [
        "## Download FashionMNIST dataset\n",
        "#################################################################################\n",
        "#                          COMPLETE THE FOLLOWING SECTION                       #\n",
        "#################################################################################\n",
        "# use fashion mnist dataset\n",
        "train_set = torchvision.datasets.FashionMNIST(root=\"./\", download=True, \n",
        "                                              train=True,\n",
        "                                              transform=transforms.Compose([transforms.ToTensor()]))\n",
        "test_set = torchvision.datasets.FashionMNIST(root=\"./\", download=True, \n",
        "                                              train=False,\n",
        "                                              transform=transforms.Compose([transforms.ToTensor()]))\n",
        "#################################################################################\n",
        "#                                   THE END                                     #\n",
        "#################################################################################"
      ],
      "metadata": {
        "id": "uaZtkgKAe2LN"
      },
      "execution_count": 69,
      "outputs": []
    },
    {
      "cell_type": "code",
      "source": [
        "#################################################################################\n",
        "#                          COMPLETE THE FOLLOWING SECTION                       #\n",
        "#################################################################################\n",
        "# split training set into train and validation data\n",
        "train_size = 48000\n",
        "val_size = 60000 - train_size\n",
        "train_ds, val_ds = random_split(train_set, [train_size, val_size])\n",
        "\n",
        "#################################################################################\n",
        "#                                   THE END                                     #\n",
        "#################################################################################"
      ],
      "metadata": {
        "id": "CsktV4w-e64U"
      },
      "execution_count": 70,
      "outputs": []
    },
    {
      "cell_type": "code",
      "source": [
        "#################################################################################\n",
        "#                          COMPLETE THE FOLLOWING SECTION                       #\n",
        "#################################################################################\n",
        "# Loading the dataset into memory using Dataloader\n",
        "# use your desired batch size and shuffle is necessary\n",
        "train_dataloader = DataLoader(train_ds, batch_size=150)\n",
        "val_dataloader = DataLoader(val_ds, batch_size=150)\n",
        "test_dataloader = DataLoader(test_set, batch_size=150)\n",
        "classes = train_set.classes\n",
        "\n",
        "#################################################################################\n",
        "#                                   THE END                                     #\n",
        "#################################################################################"
      ],
      "metadata": {
        "id": "cRIhgkNPe-rW"
      },
      "execution_count": 71,
      "outputs": []
    },
    {
      "cell_type": "markdown",
      "source": [
        "**Display some images from dataset**"
      ],
      "metadata": {
        "id": "MVqdLxDd8O5o"
      }
    },
    {
      "cell_type": "code",
      "source": [
        "# get some random training images\n",
        "dataiter = iter(train_dataloader)\n",
        "images, labels = next(dataiter)\n",
        "fig, axes = plt.subplots(nrows=1, ncols=6, figsize=(10, 8), subplot_kw={'xticks': [], 'yticks': []})\n",
        "for i,ax in zip(range(0,6),axes.flat):\n",
        "    img,label=images[i],labels[i]\n",
        "    ax.imshow(img.permute(1, 2, 0))\n",
        "    ax.set_title(f\"Label: {classes[label]}\")\n",
        "\n",
        "plt.tight_layout()\n",
        "plt.show()"
      ],
      "metadata": {
        "colab": {
          "base_uri": "https://localhost:8080/",
          "height": 154
        },
        "id": "LnhmcZP9e62N",
        "outputId": "8d64d22b-7383-4d9a-9193-7e5c7567df1c"
      },
      "execution_count": 72,
      "outputs": [
        {
          "output_type": "display_data",
          "data": {
            "text/plain": [
              "<Figure size 720x576 with 6 Axes>"
            ],
            "image/png": "[encoded data removed]"
          },
          "metadata": {}
        }
      ]
    },
    {
      "cell_type": "markdown",
      "metadata": {
        "papermill": {
          "duration": 0.025997,
          "end_time": "2020-11-06T00:15:44.018664",
          "exception": false,
          "start_time": "2020-11-06T00:15:43.992667",
          "status": "completed"
        },
        "tags": [],
        "id": "T7RMnLBSK5Nc"
      },
      "source": [
        "# Defining the Convolutional Neural Network"
      ]
    },
    {
      "cell_type": "markdown",
      "source": [
        "<img src='https://drive.google.com/uc?id=1Euy5_bGIiiYECSZUeEofgTImJWgQ0XLf'>"
      ],
      "metadata": {
        "id": "If6yxMmoqxDN"
      }
    },
    {
      "cell_type": "markdown",
      "source": [
        "**<h2>Implement the model above in pytorch</h2>**"
      ],
      "metadata": {
        "id": "F_UOoVg8tjwT"
      }
    },
    {
      "cell_type": "code",
      "source": [
        "import torch.nn as nn\n",
        "import torch.nn.functional as F\n",
        "\n",
        "#define the CNN architecture below\n",
        "class Net(nn.Module):\n",
        "    def __init__(self):\n",
        "        super(Net, self).__init__()\n",
        "#################################################################################\n",
        "#                          COMPLETE THE FOLLOWING SECTION                       #\n",
        "#################################################################################\n",
        "        self.features = nn.Sequential(\n",
        "            nn.Conv2d(1, 32, kernel_size=3, padding=1),\n",
        "            nn.ReLU(),\n",
        "            nn.MaxPool2d(kernel_size=2),\n",
        "            nn.Conv2d(32, 64, kernel_size=3, padding=1),\n",
        "            nn.ReLU(),\n",
        "            nn.MaxPool2d(kernel_size=2),\n",
        "        )\n",
        "\n",
        "        self.classifier = nn.Sequential(\n",
        "            nn.Dropout(),\n",
        "            nn.Linear(64 * 7 * 7, 128),\n",
        "            nn.ReLU(),\n",
        "            nn.Dropout(),\n",
        "            nn.Linear(128, 10),\n",
        "            nn.LogSoftmax(dim=1),\n",
        "        )\n",
        "\n",
        "    def forward(self, x):\n",
        "        x = self.features(x)\n",
        "        x = torch.flatten(x, 1)\n",
        "        x = self.classifier(x)\n",
        "\n",
        "        return x\n",
        "\n",
        "\n",
        "\n",
        "#################################################################################\n",
        "#                                   THE END                                     #\n",
        "#################################################################################\n",
        "        \n",
        "        \n",
        "    def forward(self, x):\n",
        "#################################################################################\n",
        "#                          COMPLETE THE FOLLOWING SECTION                       #\n",
        "#################################################################################\n",
        "        x = self.features(x)\n",
        "        x = torch.flatten(x, 1)\n",
        "        x = self.classifier(x)\n",
        "#################################################################################\n",
        "#                                   THE END                                     #\n",
        "#################################################################################\n",
        "        \n",
        "        return x"
      ],
      "metadata": {
        "id": "5d4iYGy6cwgZ"
      },
      "execution_count": 73,
      "outputs": []
    },
    {
      "cell_type": "code",
      "source": [
        "# Using GPU if it's available\n",
        "device = torch.device('cuda' if torch.cuda.is_available() else 'cpu')"
      ],
      "metadata": {
        "id": "450scXnLLDSl"
      },
      "execution_count": 74,
      "outputs": []
    },
    {
      "cell_type": "code",
      "source": [
        "cnn_model = Net()\n",
        "cnn_model.to(device)"
      ],
      "metadata": {
        "colab": {
          "base_uri": "https://localhost:8080/"
        },
        "id": "mPP8CaHv684n",
        "outputId": "953d2bbf-c285-4028-9631-a6127889c619"
      },
      "execution_count": 75,
      "outputs": [
        {
          "output_type": "execute_result",
          "data": {
            "text/plain": [
              "Net(\n",
              "  (features): Sequential(\n",
              "    (0): Conv2d(1, 32, kernel_size=(3, 3), stride=(1, 1), padding=(1, 1))\n",
              "    (1): ReLU()\n",
              "    (2): MaxPool2d(kernel_size=2, stride=2, padding=0, dilation=1, ceil_mode=False)\n",
              "    (3): Conv2d(32, 64, kernel_size=(3, 3), stride=(1, 1), padding=(1, 1))\n",
              "    (4): ReLU()\n",
              "    (5): MaxPool2d(kernel_size=2, stride=2, padding=0, dilation=1, ceil_mode=False)\n",
              "  )\n",
              "  (classifier): Sequential(\n",
              "    (0): Dropout(p=0.5, inplace=False)\n",
              "    (1): Linear(in_features=3136, out_features=128, bias=True)\n",
              "    (2): ReLU()\n",
              "    (3): Dropout(p=0.5, inplace=False)\n",
              "    (4): Linear(in_features=128, out_features=10, bias=True)\n",
              "    (5): LogSoftmax(dim=1)\n",
              "  )\n",
              ")"
            ]
          },
          "metadata": {},
          "execution_count": 75
        }
      ]
    },
    {
      "cell_type": "markdown",
      "metadata": {
        "papermill": {
          "duration": 0.026597,
          "end_time": "2020-11-06T00:15:44.148554",
          "exception": false,
          "start_time": "2020-11-06T00:15:44.121957",
          "status": "completed"
        },
        "tags": [],
        "id": "NJ0Xr7KfK5Ne"
      },
      "source": [
        "# Defining Loss Function and optimizer\n",
        "**Define appropriate Loss Function, Optimizer and Learning Rate**"
      ]
    },
    {
      "cell_type": "code",
      "execution_count": 76,
      "metadata": {
        "execution": {
          "iopub.execute_input": "2020-11-06T00:15:44.209323Z",
          "iopub.status.busy": "2020-11-06T00:15:44.208462Z",
          "iopub.status.idle": "2020-11-06T00:15:44.211159Z",
          "shell.execute_reply": "2020-11-06T00:15:44.211695Z"
        },
        "papermill": {
          "duration": 0.036545,
          "end_time": "2020-11-06T00:15:44.211856",
          "exception": false,
          "start_time": "2020-11-06T00:15:44.175311",
          "status": "completed"
        },
        "tags": [],
        "id": "aAhczTtRK5Nf"
      },
      "outputs": [],
      "source": [
        "import torch.optim as optim\n",
        "\n",
        "Learning_rate = 0.001\n",
        "criterion = nn.NLLLoss()\n",
        "optimizer = optim.Adam(cnn_model.parameters())"
      ]
    },
    {
      "cell_type": "markdown",
      "source": [
        "**Define number of epochs and path to save the best model**"
      ],
      "metadata": {
        "id": "MTs7zqIuT6bI"
      }
    },
    {
      "cell_type": "code",
      "source": [
        "epochs = 30\n",
        "save_path=\"/content/cnn_model\""
      ],
      "metadata": {
        "id": "TIl4qh6gT68p"
      },
      "execution_count": 77,
      "outputs": []
    },
    {
      "cell_type": "markdown",
      "metadata": {
        "papermill": {
          "duration": 0.026206,
          "end_time": "2020-11-06T00:15:44.264708",
          "exception": false,
          "start_time": "2020-11-06T00:15:44.238502",
          "status": "completed"
        },
        "tags": [],
        "id": "oE5cyPw3K5Ng"
      },
      "source": [
        "# Finally we will train our neural network"
      ]
    },
    {
      "cell_type": "code",
      "source": [
        "# multiclass accuracy\n",
        "def multi_acc(y_pred, y_test):\n",
        "    _, y_pred_tags = torch.max(y_pred, dim = 1)    \n",
        "    correct_pred = (y_pred_tags == y_test).float()\n",
        "    acc = correct_pred.sum() / len(correct_pred)\n",
        "    acc = torch.round(acc * 100)\n",
        "    return acc"
      ],
      "metadata": {
        "id": "2czjHpINLO7A"
      },
      "execution_count": 78,
      "outputs": []
    },
    {
      "cell_type": "markdown",
      "source": [
        "**Implementing the training algorithm and Saving the model with minimum Validation Loss**"
      ],
      "metadata": {
        "id": "-0JhvfcNYGwI"
      }
    },
    {
      "cell_type": "code",
      "source": [
        "# training loop\n",
        "def train_model(model, train_dataloader, val_dataloader, n_epochs, optimizer, criterion, device, save_path):\n",
        "    train_losses = []\n",
        "    val_losses = []\n",
        "    valid_loss_min = np.Inf \n",
        "    best_model = model\n",
        "\n",
        "    for epoch in range(n_epochs):\n",
        "#################################################################################\n",
        "#                          COMPLETE THE FOLLOWING SECTION                       #\n",
        "#################################################################################\n",
        "        ####### Training Phase ########\n",
        "        model.train()\n",
        "        with tqdm(train_dataloader, unit=\"batch\") as batches:\n",
        "            epoch_loss = 0\n",
        "            count = 0\n",
        "            for data, target in batches:\n",
        "                batches.set_description(f\"Epoch {epoch + 1}\")\n",
        "\n",
        "                # move to GPU\n",
        "                data, target = data.to(device), target.to(device)\n",
        "                data = Variable(data.view(150, 1, 28, 28))\n",
        "                target = Variable(target)\n",
        "                # train \n",
        "\n",
        "                out = model(data)\n",
        "                train_loss = criterion(out, target)\n",
        "                optimizer.zero_grad()\n",
        "\n",
        "                train_loss.backward()\n",
        "                optimizer.step()\n",
        "\n",
        "                acc = multi_acc(out, target)\n",
        "                batches.set_postfix(train_loss = train_loss.item(), train_accuracy = acc.item()) # show loss and accuracy per batch of data\n",
        "\n",
        "                epoch_loss = epoch_loss + train_loss.item()\n",
        "                count = count + 1\n",
        "\n",
        "        train_losses.append(epoch_loss / count)\n",
        "\n",
        "\n",
        "        ####### Validation Phase ########\n",
        "        model.eval()\n",
        "        accs = []\n",
        "        with torch.no_grad():\n",
        "            # run the prediction on the validation dataloader,\n",
        "            y_true, y_pred = [], []\n",
        "            valid_loss = 0\n",
        "            count = 0\n",
        "            for batch_idx, (data, target) in enumerate(val_dataloader):\n",
        "                # move to GPU\n",
        "                data, target = data.to(device), target.to(device)\n",
        "                # validation\n",
        "                out = model(data)\n",
        "                acc = multi_acc(out, target)\n",
        "                accs.append(acc.item())\n",
        "                valid_loss = valid_loss + criterion(out, target)\n",
        "                count = count + 1\n",
        "\n",
        "        valid_loss = valid_loss / count\n",
        "\n",
        "#################################################################################\n",
        "#                                   THE END                                     #\n",
        "#################################################################################\n",
        "        val_losses.append(float(valid_loss.to(\"cpu\")))\n",
        "        \n",
        "        # print validation statistics \n",
        "        print('Epoch: {}  Validation Loss: {:.6f} Validation Accuracy: {:.1f}'.format(epoch+1, valid_loss, sum(accs) / len(accs)))\n",
        "\n",
        "        ## If the valiation loss has decreased, then saving the model\n",
        "        if valid_loss <= valid_loss_min:\n",
        "            print('Validation loss decreased ({:.6f} --> {:.6f}).  Saving model ...'.format(\n",
        "            valid_loss_min,\n",
        "            valid_loss))\n",
        "            torch.save(model.state_dict(), save_path)\n",
        "            best_model = copy.deepcopy(model)\n",
        "            valid_loss_min = valid_loss \n",
        "\n",
        "    return best_model, train_losses, val_losses"
      ],
      "metadata": {
        "id": "Dhs9WLSeNA-6"
      },
      "execution_count": 79,
      "outputs": []
    },
    {
      "cell_type": "markdown",
      "source": [
        "**Train the model**"
      ],
      "metadata": {
        "id": "Iz5KwJJ61LAI"
      }
    },
    {
      "cell_type": "code",
      "source": [
        "#################################################################################\n",
        "#                          COMPLETE THE FOLLOWING SECTION                       #\n",
        "#################################################################################\n",
        "trained_model, train_losses, val_losses = train_model(cnn_model, train_dataloader,\n",
        "                                                      val_dataloader, epochs, optimizer,\n",
        "                                                      criterion, device, save_path)\n",
        "#################################################################################\n",
        "#                                   THE END                                     #\n",
        "#################################################################################"
      ],
      "metadata": {
        "colab": {
          "base_uri": "https://localhost:8080/"
        },
        "id": "xfSGwRGHSRbP",
        "outputId": "c0a77c53-ae1b-45d9-de2f-f9bc663f824c"
      },
      "execution_count": 80,
      "outputs": [
        {
          "output_type": "stream",
          "name": "stderr",
          "text": [
            "Epoch 1: 100%|██████████| 320/320 [00:10<00:00, 31.93batch/s, train_accuracy=77, train_loss=0.672]\n"
          ]
        },
        {
          "output_type": "stream",
          "name": "stdout",
          "text": [
            "Epoch: 1  Validation Loss: 0.420132 Validation Accuracy: 83.8\n",
            "Validation loss decreased (inf --> 0.420132).  Saving model ...\n"
          ]
        },
        {
          "output_type": "stream",
          "name": "stderr",
          "text": [
            "Epoch 2: 100%|██████████| 320/320 [00:09<00:00, 32.45batch/s, train_accuracy=80, train_loss=0.574]\n"
          ]
        },
        {
          "output_type": "stream",
          "name": "stdout",
          "text": [
            "Epoch: 2  Validation Loss: 0.355737 Validation Accuracy: 86.5\n",
            "Validation loss decreased (0.420132 --> 0.355737).  Saving model ...\n"
          ]
        },
        {
          "output_type": "stream",
          "name": "stderr",
          "text": [
            "Epoch 3: 100%|██████████| 320/320 [00:09<00:00, 32.37batch/s, train_accuracy=85, train_loss=0.466]\n"
          ]
        },
        {
          "output_type": "stream",
          "name": "stdout",
          "text": [
            "Epoch: 3  Validation Loss: 0.329065 Validation Accuracy: 87.4\n",
            "Validation loss decreased (0.355737 --> 0.329065).  Saving model ...\n"
          ]
        },
        {
          "output_type": "stream",
          "name": "stderr",
          "text": [
            "Epoch 4: 100%|██████████| 320/320 [00:10<00:00, 31.75batch/s, train_accuracy=89, train_loss=0.378]\n"
          ]
        },
        {
          "output_type": "stream",
          "name": "stdout",
          "text": [
            "Epoch: 4  Validation Loss: 0.304414 Validation Accuracy: 88.5\n",
            "Validation loss decreased (0.329065 --> 0.304414).  Saving model ...\n"
          ]
        },
        {
          "output_type": "stream",
          "name": "stderr",
          "text": [
            "Epoch 5: 100%|██████████| 320/320 [00:10<00:00, 30.70batch/s, train_accuracy=85, train_loss=0.406]\n"
          ]
        },
        {
          "output_type": "stream",
          "name": "stdout",
          "text": [
            "Epoch: 5  Validation Loss: 0.288108 Validation Accuracy: 89.2\n",
            "Validation loss decreased (0.304414 --> 0.288108).  Saving model ...\n"
          ]
        },
        {
          "output_type": "stream",
          "name": "stderr",
          "text": [
            "Epoch 6: 100%|██████████| 320/320 [00:10<00:00, 31.81batch/s, train_accuracy=87, train_loss=0.396]\n"
          ]
        },
        {
          "output_type": "stream",
          "name": "stdout",
          "text": [
            "Epoch: 6  Validation Loss: 0.278290 Validation Accuracy: 89.6\n",
            "Validation loss decreased (0.288108 --> 0.278290).  Saving model ...\n"
          ]
        },
        {
          "output_type": "stream",
          "name": "stderr",
          "text": [
            "Epoch 7: 100%|██████████| 320/320 [00:09<00:00, 32.97batch/s, train_accuracy=86, train_loss=0.351]\n"
          ]
        },
        {
          "output_type": "stream",
          "name": "stdout",
          "text": [
            "Epoch: 7  Validation Loss: 0.265500 Validation Accuracy: 89.9\n",
            "Validation loss decreased (0.278290 --> 0.265500).  Saving model ...\n"
          ]
        },
        {
          "output_type": "stream",
          "name": "stderr",
          "text": [
            "Epoch 8: 100%|██████████| 320/320 [00:09<00:00, 33.50batch/s, train_accuracy=87, train_loss=0.377]\n"
          ]
        },
        {
          "output_type": "stream",
          "name": "stdout",
          "text": [
            "Epoch: 8  Validation Loss: 0.260904 Validation Accuracy: 90.1\n",
            "Validation loss decreased (0.265500 --> 0.260904).  Saving model ...\n"
          ]
        },
        {
          "output_type": "stream",
          "name": "stderr",
          "text": [
            "Epoch 9: 100%|██████████| 320/320 [00:10<00:00, 31.09batch/s, train_accuracy=89, train_loss=0.307]\n"
          ]
        },
        {
          "output_type": "stream",
          "name": "stdout",
          "text": [
            "Epoch: 9  Validation Loss: 0.251146 Validation Accuracy: 90.5\n",
            "Validation loss decreased (0.260904 --> 0.251146).  Saving model ...\n"
          ]
        },
        {
          "output_type": "stream",
          "name": "stderr",
          "text": [
            "Epoch 10: 100%|██████████| 320/320 [00:09<00:00, 34.12batch/s, train_accuracy=89, train_loss=0.283]\n"
          ]
        },
        {
          "output_type": "stream",
          "name": "stdout",
          "text": [
            "Epoch: 10  Validation Loss: 0.251433 Validation Accuracy: 90.8\n"
          ]
        },
        {
          "output_type": "stream",
          "name": "stderr",
          "text": [
            "Epoch 11: 100%|██████████| 320/320 [00:09<00:00, 34.15batch/s, train_accuracy=93, train_loss=0.255]\n"
          ]
        },
        {
          "output_type": "stream",
          "name": "stdout",
          "text": [
            "Epoch: 11  Validation Loss: 0.240764 Validation Accuracy: 91.1\n",
            "Validation loss decreased (0.251146 --> 0.240764).  Saving model ...\n"
          ]
        },
        {
          "output_type": "stream",
          "name": "stderr",
          "text": [
            "Epoch 12: 100%|██████████| 320/320 [00:09<00:00, 33.90batch/s, train_accuracy=88, train_loss=0.419]\n"
          ]
        },
        {
          "output_type": "stream",
          "name": "stdout",
          "text": [
            "Epoch: 12  Validation Loss: 0.233397 Validation Accuracy: 91.7\n",
            "Validation loss decreased (0.240764 --> 0.233397).  Saving model ...\n"
          ]
        },
        {
          "output_type": "stream",
          "name": "stderr",
          "text": [
            "Epoch 13: 100%|██████████| 320/320 [00:10<00:00, 31.70batch/s, train_accuracy=91, train_loss=0.255]\n"
          ]
        },
        {
          "output_type": "stream",
          "name": "stdout",
          "text": [
            "Epoch: 13  Validation Loss: 0.231854 Validation Accuracy: 91.7\n",
            "Validation loss decreased (0.233397 --> 0.231854).  Saving model ...\n"
          ]
        },
        {
          "output_type": "stream",
          "name": "stderr",
          "text": [
            "Epoch 14: 100%|██████████| 320/320 [00:09<00:00, 32.17batch/s, train_accuracy=89, train_loss=0.307]\n"
          ]
        },
        {
          "output_type": "stream",
          "name": "stdout",
          "text": [
            "Epoch: 14  Validation Loss: 0.229399 Validation Accuracy: 91.6\n",
            "Validation loss decreased (0.231854 --> 0.229399).  Saving model ...\n"
          ]
        },
        {
          "output_type": "stream",
          "name": "stderr",
          "text": [
            "Epoch 15: 100%|██████████| 320/320 [00:10<00:00, 31.68batch/s, train_accuracy=89, train_loss=0.272]\n"
          ]
        },
        {
          "output_type": "stream",
          "name": "stdout",
          "text": [
            "Epoch: 15  Validation Loss: 0.223063 Validation Accuracy: 91.7\n",
            "Validation loss decreased (0.229399 --> 0.223063).  Saving model ...\n"
          ]
        },
        {
          "output_type": "stream",
          "name": "stderr",
          "text": [
            "Epoch 16: 100%|██████████| 320/320 [00:10<00:00, 30.48batch/s, train_accuracy=89, train_loss=0.315]\n"
          ]
        },
        {
          "output_type": "stream",
          "name": "stdout",
          "text": [
            "Epoch: 16  Validation Loss: 0.222870 Validation Accuracy: 91.9\n",
            "Validation loss decreased (0.223063 --> 0.222870).  Saving model ...\n"
          ]
        },
        {
          "output_type": "stream",
          "name": "stderr",
          "text": [
            "Epoch 17: 100%|██████████| 320/320 [00:09<00:00, 32.20batch/s, train_accuracy=92, train_loss=0.217]\n"
          ]
        },
        {
          "output_type": "stream",
          "name": "stdout",
          "text": [
            "Epoch: 17  Validation Loss: 0.221636 Validation Accuracy: 92.1\n",
            "Validation loss decreased (0.222870 --> 0.221636).  Saving model ...\n"
          ]
        },
        {
          "output_type": "stream",
          "name": "stderr",
          "text": [
            "Epoch 18: 100%|██████████| 320/320 [00:09<00:00, 32.33batch/s, train_accuracy=90, train_loss=0.263]\n"
          ]
        },
        {
          "output_type": "stream",
          "name": "stdout",
          "text": [
            "Epoch: 18  Validation Loss: 0.218827 Validation Accuracy: 92.1\n",
            "Validation loss decreased (0.221636 --> 0.218827).  Saving model ...\n"
          ]
        },
        {
          "output_type": "stream",
          "name": "stderr",
          "text": [
            "Epoch 19: 100%|██████████| 320/320 [00:09<00:00, 32.25batch/s, train_accuracy=92, train_loss=0.211]\n"
          ]
        },
        {
          "output_type": "stream",
          "name": "stdout",
          "text": [
            "Epoch: 19  Validation Loss: 0.215021 Validation Accuracy: 92.2\n",
            "Validation loss decreased (0.218827 --> 0.215021).  Saving model ...\n"
          ]
        },
        {
          "output_type": "stream",
          "name": "stderr",
          "text": [
            "Epoch 20: 100%|██████████| 320/320 [00:09<00:00, 32.72batch/s, train_accuracy=93, train_loss=0.217]\n"
          ]
        },
        {
          "output_type": "stream",
          "name": "stdout",
          "text": [
            "Epoch: 20  Validation Loss: 0.218222 Validation Accuracy: 92.0\n"
          ]
        },
        {
          "output_type": "stream",
          "name": "stderr",
          "text": [
            "Epoch 21: 100%|██████████| 320/320 [00:10<00:00, 31.32batch/s, train_accuracy=91, train_loss=0.26]\n"
          ]
        },
        {
          "output_type": "stream",
          "name": "stdout",
          "text": [
            "Epoch: 21  Validation Loss: 0.213596 Validation Accuracy: 92.3\n",
            "Validation loss decreased (0.215021 --> 0.213596).  Saving model ...\n"
          ]
        },
        {
          "output_type": "stream",
          "name": "stderr",
          "text": [
            "Epoch 22: 100%|██████████| 320/320 [00:10<00:00, 30.44batch/s, train_accuracy=89, train_loss=0.237]\n"
          ]
        },
        {
          "output_type": "stream",
          "name": "stdout",
          "text": [
            "Epoch: 22  Validation Loss: 0.212405 Validation Accuracy: 92.6\n",
            "Validation loss decreased (0.213596 --> 0.212405).  Saving model ...\n"
          ]
        },
        {
          "output_type": "stream",
          "name": "stderr",
          "text": [
            "Epoch 23: 100%|██████████| 320/320 [00:10<00:00, 31.78batch/s, train_accuracy=93, train_loss=0.187]\n"
          ]
        },
        {
          "output_type": "stream",
          "name": "stdout",
          "text": [
            "Epoch: 23  Validation Loss: 0.216311 Validation Accuracy: 92.2\n"
          ]
        },
        {
          "output_type": "stream",
          "name": "stderr",
          "text": [
            "Epoch 24: 100%|██████████| 320/320 [00:09<00:00, 32.40batch/s, train_accuracy=91, train_loss=0.269]\n"
          ]
        },
        {
          "output_type": "stream",
          "name": "stdout",
          "text": [
            "Epoch: 24  Validation Loss: 0.208365 Validation Accuracy: 92.7\n",
            "Validation loss decreased (0.212405 --> 0.208365).  Saving model ...\n"
          ]
        },
        {
          "output_type": "stream",
          "name": "stderr",
          "text": [
            "Epoch 25: 100%|██████████| 320/320 [00:09<00:00, 32.04batch/s, train_accuracy=89, train_loss=0.326]\n"
          ]
        },
        {
          "output_type": "stream",
          "name": "stdout",
          "text": [
            "Epoch: 25  Validation Loss: 0.209829 Validation Accuracy: 92.4\n"
          ]
        },
        {
          "output_type": "stream",
          "name": "stderr",
          "text": [
            "Epoch 26: 100%|██████████| 320/320 [00:09<00:00, 32.38batch/s, train_accuracy=91, train_loss=0.209]\n"
          ]
        },
        {
          "output_type": "stream",
          "name": "stdout",
          "text": [
            "Epoch: 26  Validation Loss: 0.209665 Validation Accuracy: 92.6\n"
          ]
        },
        {
          "output_type": "stream",
          "name": "stderr",
          "text": [
            "Epoch 27: 100%|██████████| 320/320 [00:09<00:00, 33.11batch/s, train_accuracy=92, train_loss=0.209]\n"
          ]
        },
        {
          "output_type": "stream",
          "name": "stdout",
          "text": [
            "Epoch: 27  Validation Loss: 0.206234 Validation Accuracy: 92.7\n",
            "Validation loss decreased (0.208365 --> 0.206234).  Saving model ...\n"
          ]
        },
        {
          "output_type": "stream",
          "name": "stderr",
          "text": [
            "Epoch 28: 100%|██████████| 320/320 [00:09<00:00, 33.49batch/s, train_accuracy=92, train_loss=0.196]\n"
          ]
        },
        {
          "output_type": "stream",
          "name": "stdout",
          "text": [
            "Epoch: 28  Validation Loss: 0.206528 Validation Accuracy: 92.6\n"
          ]
        },
        {
          "output_type": "stream",
          "name": "stderr",
          "text": [
            "Epoch 29: 100%|██████████| 320/320 [00:09<00:00, 33.06batch/s, train_accuracy=94, train_loss=0.165]\n"
          ]
        },
        {
          "output_type": "stream",
          "name": "stdout",
          "text": [
            "Epoch: 29  Validation Loss: 0.207630 Validation Accuracy: 92.6\n"
          ]
        },
        {
          "output_type": "stream",
          "name": "stderr",
          "text": [
            "Epoch 30: 100%|██████████| 320/320 [00:09<00:00, 32.92batch/s, train_accuracy=91, train_loss=0.222]\n"
          ]
        },
        {
          "output_type": "stream",
          "name": "stdout",
          "text": [
            "Epoch: 30  Validation Loss: 0.206841 Validation Accuracy: 92.7\n"
          ]
        }
      ]
    },
    {
      "cell_type": "code",
      "source": [
        "# plot losses\n",
        "plt.subplots(figsize=(12, 8))\n",
        "sns.set_style(\"dark\")\n",
        "sns.lineplot(data=val_losses,label=\"Validation Loss\")\n",
        "sns.lineplot(data=np.asarray(train_losses),label=\"Train Loss\").set(title=\"loss change during training\", xlabel=\"epoch\", ylabel=\"loss\")\n",
        "plt.legend()\n",
        "plt.grid()\n",
        "plt.show()"
      ],
      "metadata": {
        "id": "1VIIMDdGUgwZ",
        "colab": {
          "base_uri": "https://localhost:8080/",
          "height": 513
        },
        "outputId": "2c5dc838-547f-45ce-9599-c4cecbc6b651"
      },
      "execution_count": 81,
      "outputs": [
        {
          "output_type": "display_data",
          "data": {
            "text/plain": [
              "<Figure size 864x576 with 1 Axes>"
            ],
            "image/png": "[encoded data removed]"
          },
          "metadata": {}
        }
      ]
    },
    {
      "cell_type": "markdown",
      "metadata": {
        "papermill": {
          "duration": 0.035134,
          "end_time": "2020-11-06T00:19:25.651361",
          "exception": false,
          "start_time": "2020-11-06T00:19:25.616227",
          "status": "completed"
        },
        "tags": [],
        "id": "5fvHlCSjK5Nk"
      },
      "source": [
        "# Prediction on Test Data"
      ]
    },
    {
      "cell_type": "code",
      "source": [
        "def predict(images, model):\n",
        "#################################################################################\n",
        "#                          COMPLETE THE FOLLOWING SECTION                       #\n",
        "#################################################################################\n",
        "    images = images.to(device)\n",
        "    y_pred = model(images)\n",
        "    _, y_pred_tags = torch.max(y_pred, dim = 1) \n",
        "#################################################################################\n",
        "#                                   THE END                                     #\n",
        "#################################################################################  \n",
        "    return y_pred_tags"
      ],
      "metadata": {
        "id": "Apy7kcRI3-ei"
      },
      "execution_count": 82,
      "outputs": []
    },
    {
      "cell_type": "markdown",
      "source": [
        "**Accuracy Result on Test Data**"
      ],
      "metadata": {
        "id": "-4B6q4vC39ry"
      }
    },
    {
      "cell_type": "code",
      "execution_count": 83,
      "metadata": {
        "execution": {
          "iopub.execute_input": "2020-11-06T00:19:26.514739Z",
          "iopub.status.busy": "2020-11-06T00:19:26.513979Z",
          "iopub.status.idle": "2020-11-06T00:19:31.836462Z",
          "shell.execute_reply": "2020-11-06T00:19:31.837205Z"
        },
        "papermill": {
          "duration": 5.37107,
          "end_time": "2020-11-06T00:19:31.837359",
          "exception": false,
          "start_time": "2020-11-06T00:19:26.466289",
          "status": "completed"
        },
        "tags": [],
        "id": "N_QdkLveK5No",
        "colab": {
          "base_uri": "https://localhost:8080/"
        },
        "outputId": "2181e6e7-b79c-4e13-9f29-39b669b4a4b6"
      },
      "outputs": [
        {
          "output_type": "stream",
          "name": "stdout",
          "text": [
            "Accuracy of {'T-shirt/top'}: 83.26%\n",
            "Accuracy of {'Trouser'}: 98.21%\n",
            "Accuracy of {'Pullover'}: 89.97%\n",
            "Accuracy of {'Dress'}: 93.52%\n",
            "Accuracy of {'Coat'}: 84.79%\n",
            "Accuracy of {'Sandal'}: 98.17%\n",
            "Accuracy of {'Shirt'}: 76.78%\n",
            "Accuracy of {'Sneaker'}: 98.13%\n",
            "Accuracy of {'Bag'}: 98.54%\n",
            "Accuracy of {'Ankle boot'}: 96.70%\n"
          ]
        }
      ],
      "source": [
        "class_correct = [0. for _ in range(10)]\n",
        "total_correct = [0. for _ in range(10)]\n",
        "\n",
        "predictions_list = []\n",
        "labels_list = []\n",
        "\n",
        "with torch.no_grad():\n",
        "    for images, labels in test_dataloader:\n",
        "        images, labels = images.to(device), labels.to(device)\n",
        "        test = Variable(images)\n",
        "        outputs = trained_model(test)\n",
        "        predicted = torch.max(outputs, 1)[1]\n",
        "        predictions_list.append(predicted)\n",
        "        labels_list.append(labels)\n",
        "        c = (predicted == labels).squeeze()\n",
        "        \n",
        "        for i in range(100):\n",
        "            label = labels[i]\n",
        "            class_correct[label] += c[i].item()\n",
        "            total_correct[label] += 1\n",
        "        \n",
        "for i in range(10):\n",
        "    print(\"Accuracy of {}: {:.2f}%\".format({classes[i]}, class_correct[i] * 100 / total_correct[i]))\n",
        "\n",
        "from itertools import chain \n",
        "\n",
        "predictions_l = [predictions_list[i].tolist() for i in range(len(predictions_list))]\n",
        "labels_l = [labels_list[i].tolist() for i in range(len(labels_list))]\n",
        "predictions_l = list(chain.from_iterable(predictions_l))\n",
        "labels_l = list(chain.from_iterable(labels_l))"
      ]
    },
    {
      "cell_type": "markdown",
      "metadata": {
        "papermill": {
          "duration": 0.047911,
          "end_time": "2020-11-06T00:19:31.934242",
          "exception": false,
          "start_time": "2020-11-06T00:19:31.886331",
          "status": "completed"
        },
        "tags": [],
        "id": "D8b8n56jK5No"
      },
      "source": [
        "**Classification report**"
      ]
    },
    {
      "cell_type": "code",
      "source": [
        "print(classification_report(predictions_l, labels_l, target_names=classes))"
      ],
      "metadata": {
        "id": "pXpTYXeOdE10",
        "colab": {
          "base_uri": "https://localhost:8080/"
        },
        "outputId": "b1b1c5ac-cc49-48eb-89db-1026cf024c36"
      },
      "execution_count": 84,
      "outputs": [
        {
          "output_type": "stream",
          "name": "stdout",
          "text": [
            "              precision    recall  f1-score   support\n",
            "\n",
            " T-shirt/top       0.85      0.89      0.87       955\n",
            "     Trouser       0.98      1.00      0.99       987\n",
            "    Pullover       0.89      0.86      0.88      1031\n",
            "       Dress       0.94      0.91      0.92      1025\n",
            "        Coat       0.86      0.87      0.87       987\n",
            "      Sandal       0.98      0.99      0.98       995\n",
            "       Shirt       0.77      0.76      0.76      1009\n",
            "     Sneaker       0.98      0.95      0.96      1034\n",
            "         Bag       0.99      0.98      0.99      1004\n",
            "  Ankle boot       0.96      0.98      0.97       973\n",
            "\n",
            "    accuracy                           0.92     10000\n",
            "   macro avg       0.92      0.92      0.92     10000\n",
            "weighted avg       0.92      0.92      0.92     10000\n",
            "\n"
          ]
        }
      ]
    },
    {
      "cell_type": "markdown",
      "source": [
        "**Displaying a random set of images from test data**"
      ],
      "metadata": {
        "id": "L5-11WQI2_em"
      }
    },
    {
      "cell_type": "code",
      "source": [
        "dataiter = iter(test_dataloader)\n",
        "images, labels = next(dataiter)\n",
        "predicted=predict(images,cnn_model)\n",
        "\n",
        "fig, axes = plt.subplots(nrows=5, ncols=5, figsize=(15, 15), subplot_kw={'xticks': [], 'yticks': []})\n",
        "for i,ax in zip(range(0,25),axes.flat):\n",
        "    img,label=images[i],labels[i]\n",
        "    pred=predicted[i]\n",
        "    ax.imshow(img.permute(1, 2, 0))\n",
        "    ax.set_title(f\"True: {classes[label]}\\n Predicted: {classes[pred]}\")\n",
        "\n",
        "plt.tight_layout()\n",
        "plt.show()"
      ],
      "metadata": {
        "id": "rVr_w4_80rJI",
        "colab": {
          "base_uri": "https://localhost:8080/",
          "height": 1000
        },
        "outputId": "a73be57e-a31c-44af-fe01-70f4d9a3f5f6"
      },
      "execution_count": 85,
      "outputs": [
        {
          "output_type": "display_data",
          "data": {
            "text/plain": [
              "<Figure size 1080x1080 with 25 Axes>"
            ],
            "image/png": "[encoded data removed]"
          },
          "metadata": {}
        }
      ]
    }
  ],
  "metadata": {
    "kernelspec": {
      "display_name": "Python 3",
      "language": "python",
      "name": "python3"
    },
    "language_info": {
      "codemirror_mode": {
        "name": "ipython",
        "version": 3
      },
      "file_extension": ".py",
      "mimetype": "text/x-python",
      "name": "python",
      "nbconvert_exporter": "python",
      "pygments_lexer": "ipython3",
      "version": "3.7.6"
    },
    "papermill": {
      "duration": 247.72117,
      "end_time": "2020-11-06T00:19:37.463107",
      "environment_variables": {},
      "exception": null,
      "input_path": "__notebook__.ipynb",
      "output_path": "__notebook__.ipynb",
      "parameters": {},
      "start_time": "2020-11-06T00:15:29.741937",
      "version": "2.1.0"
    },
    "colab": {
      "provenance": []
    },
    "accelerator": "GPU",
    "gpuClass": "standard"
  },
  "nbformat": 4,
  "nbformat_minor": 0
}