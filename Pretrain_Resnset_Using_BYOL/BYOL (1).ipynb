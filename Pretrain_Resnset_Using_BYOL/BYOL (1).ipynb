{
  "cells": [
    {
      "cell_type": "markdown",
      "metadata": {
        "id": "QnKVArh_0qhm"
      },
      "source": [
        "# BYOL\n",
        "\n",
        "In this notebook we are going to implement [BYOL: Bootstrap Your Own Latent](https://arxiv.org/pdf/2006.07733.pdf) and compare the results of a classification task before and after pretraining the model with BYOL."
      ]
    },
    {
      "cell_type": "markdown",
      "metadata": {
        "id": "5E6nh_5Q2uIp"
      },
      "source": [
        "### Data Augmentations"
      ]
    },
    {
      "cell_type": "code",
      "execution_count": 23,
      "metadata": {
        "id": "B7vzr4sTnriT",
        "colab": {
          "base_uri": "https://localhost:8080/"
        },
        "outputId": "dfc9de2b-d0ca-46fa-b65b-d9bee8692542"
      },
      "outputs": [
        {
          "output_type": "stream",
          "name": "stdout",
          "text": [
            "Requirement already satisfied: kornia in /usr/local/lib/python3.10/dist-packages (0.6.12)\n",
            "Requirement already satisfied: packaging in /usr/local/lib/python3.10/dist-packages (from kornia) (23.1)\n",
            "Requirement already satisfied: torch>=1.9.1 in /usr/local/lib/python3.10/dist-packages (from kornia) (2.0.1+cu118)\n",
            "Requirement already satisfied: filelock in /usr/local/lib/python3.10/dist-packages (from torch>=1.9.1->kornia) (3.12.2)\n",
            "Requirement already satisfied: typing-extensions in /usr/local/lib/python3.10/dist-packages (from torch>=1.9.1->kornia) (4.6.3)\n",
            "Requirement already satisfied: sympy in /usr/local/lib/python3.10/dist-packages (from torch>=1.9.1->kornia) (1.11.1)\n",
            "Requirement already satisfied: networkx in /usr/local/lib/python3.10/dist-packages (from torch>=1.9.1->kornia) (3.1)\n",
            "Requirement already satisfied: jinja2 in /usr/local/lib/python3.10/dist-packages (from torch>=1.9.1->kornia) (3.1.2)\n",
            "Requirement already satisfied: triton==2.0.0 in /usr/local/lib/python3.10/dist-packages (from torch>=1.9.1->kornia) (2.0.0)\n",
            "Requirement already satisfied: cmake in /usr/local/lib/python3.10/dist-packages (from triton==2.0.0->torch>=1.9.1->kornia) (3.25.2)\n",
            "Requirement already satisfied: lit in /usr/local/lib/python3.10/dist-packages (from triton==2.0.0->torch>=1.9.1->kornia) (16.0.6)\n",
            "Requirement already satisfied: MarkupSafe>=2.0 in /usr/local/lib/python3.10/dist-packages (from jinja2->torch>=1.9.1->kornia) (2.1.3)\n",
            "Requirement already satisfied: mpmath>=0.19 in /usr/local/lib/python3.10/dist-packages (from sympy->torch>=1.9.1->kornia) (1.3.0)\n"
          ]
        }
      ],
      "source": [
        "%pip install kornia\n",
        "\n",
        "import random\n",
        "from typing import Callable, Tuple\n",
        "import torch\n",
        "import torchvision\n",
        "from torch import nn, Tensor\n",
        "from torchvision import transforms as T\n",
        "from torch.nn import functional as F\n",
        "\n",
        "from kornia import augmentation as aug\n",
        "from kornia import filters\n",
        "from kornia.geometry import transform as tf\n",
        "import torch\n",
        "from torch import nn, Tensor\n",
        "\n",
        "\n",
        "class RandomApply(nn.Module):\n",
        "    def __init__(self, fn: Callable, p: float):\n",
        "        super().__init__()\n",
        "        self.fn = fn\n",
        "        self.p = p\n",
        "\n",
        "    def forward(self, x: Tensor) -> Tensor:\n",
        "        if random.random() > self.p:\n",
        "            return x\n",
        "        return self.fn(x)\n",
        "\n",
        "\n",
        "def default_augmentation(image_size: Tuple[int, int] = (224, 224)) -> nn.Module:\n",
        "    \"\"\"\n",
        "        1. resize images to 'image_size'\n",
        "        2. RandomApply color jitter\n",
        "        3. RandomApply grayscale\n",
        "        4. RandomApply horizon flip\n",
        "        5. RandomApply gaussian blur with kernel_size(3, 3), sigma=(1.5, 1.5)\n",
        "        6. RandomApply ResizedCrop to 'image_size'\n",
        "        7. Normalize\n",
        "        choosing hyperparameters that are not mentioned is up to you\n",
        "    \"\"\"\n",
        "    return nn.Sequential(\n",
        "        tf.Resize(size=image_size),\n",
        "        RandomApply(aug.ColorJitter(0.8, 0.8, 0.8, 0.2), p=0.8),\n",
        "        aug.RandomGrayscale(p=0.2),\n",
        "        aug.RandomHorizontalFlip(),\n",
        "        RandomApply(filters.GaussianBlur2d((3, 3), (1.5, 1.5)), p=0.1),\n",
        "        aug.RandomResizedCrop(size=image_size),\n",
        "        aug.Normalize(\n",
        "            mean=torch.tensor([0.485, 0.456, 0.406]),\n",
        "            std=torch.tensor([0.229, 0.224, 0.225]),\n",
        "        ),\n",
        "    )"
      ]
    },
    {
      "cell_type": "markdown",
      "metadata": {
        "id": "SNEL9fo04aOa"
      },
      "source": [
        "# Model\n",
        "We will use ResNet18 as our representation model."
      ]
    },
    {
      "cell_type": "code",
      "execution_count": 2,
      "metadata": {
        "id": "YoU-3B4FmtrZ",
        "colab": {
          "base_uri": "https://localhost:8080/"
        },
        "outputId": "ac291c74-619c-4ab9-8a9b-6eb9a035691f"
      },
      "outputs": [
        {
          "output_type": "execute_result",
          "data": {
            "text/plain": [
              "ResNet(\n",
              "  (conv1): Conv2d(3, 64, kernel_size=(7, 7), stride=(2, 2), padding=(3, 3), bias=False)\n",
              "  (bn1): BatchNorm2d(64, eps=1e-05, momentum=0.1, affine=True, track_running_stats=True)\n",
              "  (relu): ReLU(inplace=True)\n",
              "  (maxpool): MaxPool2d(kernel_size=3, stride=2, padding=1, dilation=1, ceil_mode=False)\n",
              "  (layer1): Sequential(\n",
              "    (0): BasicBlock(\n",
              "      (conv1): Conv2d(64, 64, kernel_size=(3, 3), stride=(1, 1), padding=(1, 1), bias=False)\n",
              "      (bn1): BatchNorm2d(64, eps=1e-05, momentum=0.1, affine=True, track_running_stats=True)\n",
              "      (relu): ReLU(inplace=True)\n",
              "      (conv2): Conv2d(64, 64, kernel_size=(3, 3), stride=(1, 1), padding=(1, 1), bias=False)\n",
              "      (bn2): BatchNorm2d(64, eps=1e-05, momentum=0.1, affine=True, track_running_stats=True)\n",
              "    )\n",
              "    (1): BasicBlock(\n",
              "      (conv1): Conv2d(64, 64, kernel_size=(3, 3), stride=(1, 1), padding=(1, 1), bias=False)\n",
              "      (bn1): BatchNorm2d(64, eps=1e-05, momentum=0.1, affine=True, track_running_stats=True)\n",
              "      (relu): ReLU(inplace=True)\n",
              "      (conv2): Conv2d(64, 64, kernel_size=(3, 3), stride=(1, 1), padding=(1, 1), bias=False)\n",
              "      (bn2): BatchNorm2d(64, eps=1e-05, momentum=0.1, affine=True, track_running_stats=True)\n",
              "    )\n",
              "  )\n",
              "  (layer2): Sequential(\n",
              "    (0): BasicBlock(\n",
              "      (conv1): Conv2d(64, 128, kernel_size=(3, 3), stride=(2, 2), padding=(1, 1), bias=False)\n",
              "      (bn1): BatchNorm2d(128, eps=1e-05, momentum=0.1, affine=True, track_running_stats=True)\n",
              "      (relu): ReLU(inplace=True)\n",
              "      (conv2): Conv2d(128, 128, kernel_size=(3, 3), stride=(1, 1), padding=(1, 1), bias=False)\n",
              "      (bn2): BatchNorm2d(128, eps=1e-05, momentum=0.1, affine=True, track_running_stats=True)\n",
              "      (downsample): Sequential(\n",
              "        (0): Conv2d(64, 128, kernel_size=(1, 1), stride=(2, 2), bias=False)\n",
              "        (1): BatchNorm2d(128, eps=1e-05, momentum=0.1, affine=True, track_running_stats=True)\n",
              "      )\n",
              "    )\n",
              "    (1): BasicBlock(\n",
              "      (conv1): Conv2d(128, 128, kernel_size=(3, 3), stride=(1, 1), padding=(1, 1), bias=False)\n",
              "      (bn1): BatchNorm2d(128, eps=1e-05, momentum=0.1, affine=True, track_running_stats=True)\n",
              "      (relu): ReLU(inplace=True)\n",
              "      (conv2): Conv2d(128, 128, kernel_size=(3, 3), stride=(1, 1), padding=(1, 1), bias=False)\n",
              "      (bn2): BatchNorm2d(128, eps=1e-05, momentum=0.1, affine=True, track_running_stats=True)\n",
              "    )\n",
              "  )\n",
              "  (layer3): Sequential(\n",
              "    (0): BasicBlock(\n",
              "      (conv1): Conv2d(128, 256, kernel_size=(3, 3), stride=(2, 2), padding=(1, 1), bias=False)\n",
              "      (bn1): BatchNorm2d(256, eps=1e-05, momentum=0.1, affine=True, track_running_stats=True)\n",
              "      (relu): ReLU(inplace=True)\n",
              "      (conv2): Conv2d(256, 256, kernel_size=(3, 3), stride=(1, 1), padding=(1, 1), bias=False)\n",
              "      (bn2): BatchNorm2d(256, eps=1e-05, momentum=0.1, affine=True, track_running_stats=True)\n",
              "      (downsample): Sequential(\n",
              "        (0): Conv2d(128, 256, kernel_size=(1, 1), stride=(2, 2), bias=False)\n",
              "        (1): BatchNorm2d(256, eps=1e-05, momentum=0.1, affine=True, track_running_stats=True)\n",
              "      )\n",
              "    )\n",
              "    (1): BasicBlock(\n",
              "      (conv1): Conv2d(256, 256, kernel_size=(3, 3), stride=(1, 1), padding=(1, 1), bias=False)\n",
              "      (bn1): BatchNorm2d(256, eps=1e-05, momentum=0.1, affine=True, track_running_stats=True)\n",
              "      (relu): ReLU(inplace=True)\n",
              "      (conv2): Conv2d(256, 256, kernel_size=(3, 3), stride=(1, 1), padding=(1, 1), bias=False)\n",
              "      (bn2): BatchNorm2d(256, eps=1e-05, momentum=0.1, affine=True, track_running_stats=True)\n",
              "    )\n",
              "  )\n",
              "  (layer4): Sequential(\n",
              "    (0): BasicBlock(\n",
              "      (conv1): Conv2d(256, 512, kernel_size=(3, 3), stride=(2, 2), padding=(1, 1), bias=False)\n",
              "      (bn1): BatchNorm2d(512, eps=1e-05, momentum=0.1, affine=True, track_running_stats=True)\n",
              "      (relu): ReLU(inplace=True)\n",
              "      (conv2): Conv2d(512, 512, kernel_size=(3, 3), stride=(1, 1), padding=(1, 1), bias=False)\n",
              "      (bn2): BatchNorm2d(512, eps=1e-05, momentum=0.1, affine=True, track_running_stats=True)\n",
              "      (downsample): Sequential(\n",
              "        (0): Conv2d(256, 512, kernel_size=(1, 1), stride=(2, 2), bias=False)\n",
              "        (1): BatchNorm2d(512, eps=1e-05, momentum=0.1, affine=True, track_running_stats=True)\n",
              "      )\n",
              "    )\n",
              "    (1): BasicBlock(\n",
              "      (conv1): Conv2d(512, 512, kernel_size=(3, 3), stride=(1, 1), padding=(1, 1), bias=False)\n",
              "      (bn1): BatchNorm2d(512, eps=1e-05, momentum=0.1, affine=True, track_running_stats=True)\n",
              "      (relu): ReLU(inplace=True)\n",
              "      (conv2): Conv2d(512, 512, kernel_size=(3, 3), stride=(1, 1), padding=(1, 1), bias=False)\n",
              "      (bn2): BatchNorm2d(512, eps=1e-05, momentum=0.1, affine=True, track_running_stats=True)\n",
              "    )\n",
              "  )\n",
              "  (avgpool): AdaptiveAvgPool2d(output_size=(1, 1))\n",
              "  (fc): Linear(in_features=512, out_features=10, bias=True)\n",
              ")"
            ]
          },
          "metadata": {},
          "execution_count": 2
        }
      ],
      "source": [
        "def get_encoder_model():\n",
        "    resnet = torchvision.models.resnet18()\n",
        "    # remove last fully-connected layer\n",
        "    # your code\n",
        "    resnet.fc = nn.Linear(512, 10)\n",
        "    return resnet\n",
        "\n",
        "get_encoder_model()"
      ]
    },
    {
      "cell_type": "markdown",
      "metadata": {
        "id": "XHO1Wy_R4aOb"
      },
      "source": [
        "### Loss Function\n",
        "We need to use NormalizedMSELoss as our loss function.\n",
        "$$NormalizedMSELoss(v_1, v_2) = \\Vert \\bar{v_1} - \\bar{v_2}\\Vert_2^2 = 2 - 2.\\frac{\\langle v_1, v_2 \\rangle}{\\Vert v_1\\Vert_2 \\Vert v_2\\Vert_2}$$"
      ]
    },
    {
      "cell_type": "code",
      "execution_count": 3,
      "metadata": {
        "id": "bliImslT4aOb"
      },
      "outputs": [],
      "source": [
        "class NormalizedMSELoss(nn.Module):\n",
        "    def __init__(self) -> None:\n",
        "        super(NormalizedMSELoss,self).__init__()\n",
        "\n",
        "    def forward(self, view1: Tensor, view2: Tensor) -> Tensor:\n",
        "        view1 = F.normalize(view1, dim=-1)\n",
        "        view2 = F.normalize(view2, dim=-1)\n",
        "        return 2 - 2 * (view1 * view2).sum(dim=-1)"
      ]
    },
    {
      "cell_type": "markdown",
      "metadata": {
        "id": "YHuLTZvK4aOb"
      },
      "source": [
        "### MLP\n",
        "Here you will implement a simple MLP class with one hidden layer with BatchNorm and ReLU activation, and a linear output layer. This class will be used for both the projections and the prediction networks."
      ]
    },
    {
      "cell_type": "code",
      "execution_count": 4,
      "metadata": {
        "id": "RUAhDP0f4aOb"
      },
      "outputs": [],
      "source": [
        "class MLP(nn.Module):\n",
        "    def __init__(self, input_dim: int, projection_dim: int = 256, hidden_dim: int = 4096) -> None:\n",
        "        super(MLP,self).__init__()\n",
        "        self.layers = nn.Sequential(\n",
        "            nn.Linear(input_dim, hidden_dim),\n",
        "            nn.BatchNorm1d(hidden_dim),\n",
        "            nn.ReLU(inplace=True),\n",
        "            nn.Linear(hidden_dim, projection_dim),\n",
        "        )\n",
        "\n",
        "    def forward(self, x: Tensor) -> Tensor:\n",
        "        return self.layers(x)"
      ]
    },
    {
      "cell_type": "markdown",
      "metadata": {
        "id": "1Tvi-LgQ4aOb"
      },
      "source": [
        "### Encoder + Projector Network\n",
        "This is the network structure that is shared between online and target networks. It consists of our encoder model, followed by a projection MLP."
      ]
    },
    {
      "cell_type": "code",
      "execution_count": 14,
      "metadata": {
        "id": "IVgaD2oZ4aOb"
      },
      "outputs": [],
      "source": [
        "class EncoderProjecter(nn.Module):\n",
        "    def __init__(self,\n",
        "                 encoder: nn.Module,\n",
        "                 hidden_dim: int = 4096,\n",
        "                 projection_out_dim: int = 256\n",
        "                 ) -> None:\n",
        "        super(EncoderProjecter, self).__init__()\n",
        "\n",
        "        # your code\n",
        "        self.encoder = encoder\n",
        "        self.projector = MLP(10, projection_out_dim, hidden_dim)\n",
        "\n",
        "    def forward(self, x: Tensor) -> Tensor:\n",
        "        x = self.encoder(x)\n",
        "        x = self.projector(x)\n",
        "        return x"
      ]
    },
    {
      "cell_type": "markdown",
      "metadata": {
        "id": "E9PQIgEJ4aOb"
      },
      "source": [
        "## BYOL"
      ]
    },
    {
      "cell_type": "code",
      "execution_count": 25,
      "metadata": {
        "id": "s9WKLrRf4aOb"
      },
      "outputs": [],
      "source": [
        "import torch.nn.functional as f\n",
        "from copy import deepcopy\n",
        "from tqdm import tqdm\n",
        "\n",
        "class BYOL(nn.Module):\n",
        "    def __init__(self,\n",
        "                 model,\n",
        "                 augmentation,\n",
        "                 augmentation_prime,\n",
        "                 encoder_out_shape = 1000,\n",
        "                 projection_size = 256,\n",
        "                 tau = 0.999):\n",
        "        super().__init__()\n",
        "        print('check')\n",
        "        self.encoder_online = model\n",
        "        self.projector_online = BYOL.mlp(encoder_out_shape, projection_size) # Create a network for projection\n",
        "        self.online_common = nn.Sequential(self.encoder_online,\n",
        "                                           self.projector_online)  # Encoder and projector are the same for target and online network\n",
        "\n",
        "        self.predictor_online = BYOL.mlp(projection_size, projection_size)\n",
        "        self.online = nn.Sequential(self.online_common, self.predictor_online) # Whole online network\n",
        "\n",
        "        self.target = deepcopy(self.online_common) # Target network without prediction head\n",
        "\n",
        "        self.tau = tau # Tau for moving exponential average\n",
        "        self.augmentation = augmentation\n",
        "        self.augmentation_prime = augmentation_prime\n",
        "\n",
        "        self.loss_fn = nn.MSELoss(reduction=\"sum\") # Loss function for comparision of outputs of two networks\n",
        "        self.optimiser = optim.AdamW(self.online.parameters()) # Optimizer, diffrent than in paper\n",
        "\n",
        "    @staticmethod\n",
        "    def mlp(dim_in: int,\n",
        "            projection_size: int,\n",
        "            hidden_size: int = 4096\n",
        "            ) -> nn.Module:\n",
        "        return nn.Sequential(\n",
        "                nn.Linear(dim_in, hidden_size), # a linear layer with output size 4096\n",
        "                nn.BatchNorm1d(hidden_size), # followed by batch normalization,\n",
        "                nn.ReLU(inplace=True), # rectified linear units (ReLU),\n",
        "                nn.Linear(hidden_size, projection_size)) # and a final linear layer with output dimension 256\n",
        "\n",
        "    def fit(self,\n",
        "            train_dl: DataLoader,\n",
        "            val_dl: DataLoader,\n",
        "            epochs: int\n",
        "        ) -> dict:\n",
        "        results = {\"train_loss\": [], \"val_loss\": []}\n",
        "\n",
        "        for epoch in range(epochs):\n",
        "            self.train_one_epoch(train_dl) # Train (fit) model on unlabelled data\n",
        "\n",
        "            train_loss = self.validate(train_dl) # Validate on unlabelled train data\n",
        "            val_loss = self.validate(val_dl) # Validate on validation data (labels omitted)\n",
        "\n",
        "            # Print results\n",
        "            print(f\"Epoch {epoch+1}: train loss = {train_loss:.4f}, validation \"\n",
        "                f\"loss = {val_loss:.4f}, time \")\n",
        "            results[\"train_loss\"].append(float(train_loss))\n",
        "            results[\"val_loss\"].append(float(val_loss))\n",
        "\n",
        "        return results\n",
        "\n",
        "    def train_one_epoch(self,\n",
        "                        train_dl: DataLoader\n",
        "        ):\n",
        "        self.online.train()\n",
        "        self.target.train()\n",
        "\n",
        "        for X_batch, y_batch in tqdm(train_dl):\n",
        "            X_batch, y_batch = X_batch.cuda(), y_batch.cuda()\n",
        "            loss = self.forward(X_batch)\n",
        "\n",
        "            loss.backward()\n",
        "            self.optimiser.step()\n",
        "            self.optimiser.zero_grad()\n",
        "\n",
        "            self.update_target()\n",
        "\n",
        "        self.target.eval()\n",
        "        self.online.eval()\n",
        "\n",
        "\n",
        "    def forward(self,\n",
        "                X_batch: torch.Tensor\n",
        "        ) -> torch.Tensor:\n",
        "        with torch.no_grad():\n",
        "            v, v_prime = self.augmentation(X_batch), self.augmentation_prime(X_batch)\n",
        "\n",
        "        pred1, pred2 = self.online(v), self.online(v_prime)\n",
        "        pred1, pred2 = f.normalize(pred1), f.normalize(pred2)\n",
        "        with torch.no_grad():\n",
        "            z1, z2 = self.target(v_prime), self.target(v)\n",
        "            z1, z2 = f.normalize(z1), f.normalize(z2)\n",
        "\n",
        "        return self.loss_fn(pred1, z1) + self.loss_fn(pred2, z2)\n",
        "\n",
        "\n",
        "    def update_target(self):\n",
        "        for p_online, p_target in zip(self.online_common.parameters(),\n",
        "                                      self.target.parameters()):\n",
        "            p_target.data = self.tau * p_target.data + (1 - self.tau) * p_online.data\n",
        "\n",
        "\n",
        "    def validate(self,\n",
        "                 dataloader: DataLoader\n",
        "        ) -> torch.Tensor:\n",
        "        loss = 0\n",
        "        all = 0\n",
        "        for X_batch, y_batch in tqdm(dataloader):\n",
        "            X_batch, y_batch = X_batch.cuda(), y_batch.cuda()\n",
        "            with torch.no_grad():\n",
        "                loss += self.forward(X_batch)\n",
        "            all += len(X_batch)\n",
        "        return loss / all\n"
      ]
    },
    {
      "cell_type": "markdown",
      "metadata": {
        "id": "rQzcP89G4L2u"
      },
      "source": [
        "# STL10 Datasets\n",
        "\n",
        "We need 3 separate datasets from STL10 for this experiment:\n",
        "1. `\"train\"` -- Contains only labeled training images. Used for supervised training.\n",
        "2. `\"train+unlabeled\"` -- Contains training images, plus a large number of unlabelled images.  Used for self-supervised learning with BYOL.\n",
        "3. `\"test\"` -- Labeled test images.  We use it both as a validation set, and for computing the final model accuracy."
      ]
    },
    {
      "cell_type": "code",
      "execution_count": 7,
      "metadata": {
        "colab": {
          "base_uri": "https://localhost:8080/"
        },
        "id": "1lTVx52t9Kjf",
        "outputId": "ff3b2bb1-8225-4860-b301-532a7b231541"
      },
      "outputs": [
        {
          "output_type": "stream",
          "name": "stdout",
          "text": [
            "Downloading http://ai.stanford.edu/~acoates/stl10/stl10_binary.tar.gz to data/stl10_binary.tar.gz\n"
          ]
        },
        {
          "output_type": "stream",
          "name": "stderr",
          "text": [
            "100%|██████████| 2640397119/2640397119 [02:39<00:00, 16594327.90it/s]\n"
          ]
        },
        {
          "output_type": "stream",
          "name": "stdout",
          "text": [
            "Extracting data/stl10_binary.tar.gz to data\n",
            "Files already downloaded and verified\n",
            "Files already downloaded and verified\n"
          ]
        }
      ],
      "source": [
        "from torchvision.datasets import STL10\n",
        "from torchvision.transforms import ToTensor\n",
        "\n",
        "\n",
        "TRAIN_DATASET = STL10(root=\"data\", split=\"train\", download=True, transform=ToTensor())\n",
        "TRAIN_UNLABELED_DATASET = STL10(root=\"data\", split=\"train+unlabeled\", download=True, transform=ToTensor())\n",
        "TEST_DATASET = STL10(root=\"data\", split=\"test\", download=True, transform=ToTensor())"
      ]
    },
    {
      "cell_type": "markdown",
      "metadata": {
        "id": "2oSszayi4aOc"
      },
      "source": [
        "Create dataloaders:"
      ]
    },
    {
      "cell_type": "code",
      "execution_count": 8,
      "metadata": {
        "id": "kqs2zgcL4aOc"
      },
      "outputs": [],
      "source": [
        "from torch.utils.data import DataLoader\n",
        "\n",
        "train_loader = DataLoader(\n",
        "    TRAIN_DATASET,\n",
        "    batch_size=128,\n",
        "    shuffle=True,\n",
        "    drop_last=True,\n",
        ")\n",
        "val_loader = DataLoader(\n",
        "    TEST_DATASET,\n",
        "    batch_size=128,\n",
        ")\n"
      ]
    },
    {
      "cell_type": "markdown",
      "metadata": {
        "id": "vdlrDnwR45bm"
      },
      "source": [
        "# Supervised Training without BYOL\n",
        "\n",
        "First create a classifier model by simply adding a linear layer on top of the encoder model. Then train the model using the labeled training set. Performance should be pretty good already."
      ]
    },
    {
      "cell_type": "code",
      "execution_count": 9,
      "metadata": {
        "id": "U74VljJt4aOc"
      },
      "outputs": [],
      "source": [
        "encoder = get_encoder_model()\n",
        "# your code\n",
        "classifier = encoder"
      ]
    },
    {
      "cell_type": "code",
      "source": [
        "def accuracy(pred: Tensor, labels: Tensor) -> float:\n",
        "    return (pred.argmax(dim=-1) == labels).float().mean().item()"
      ],
      "metadata": {
        "id": "ASPIrcFbDgYE"
      },
      "execution_count": 10,
      "outputs": []
    },
    {
      "cell_type": "code",
      "execution_count": 32,
      "metadata": {
        "id": "7sX4NEwD4aOc",
        "colab": {
          "base_uri": "https://localhost:8080/"
        },
        "outputId": "d7e53ce9-2abe-47c4-d6a7-056840272e89"
      },
      "outputs": [
        {
          "output_type": "stream",
          "name": "stdout",
          "text": [
            "Epoch 1: train loss = 1.932 (acc: 0.299), validation loss = 1.977 \n",
            "Epoch 2: train loss = 1.365 (acc: 0.490), validation loss = 1.566 \n",
            "Epoch 3: train loss = 1.293 (acc: 0.535), validation loss = 1.643 \n",
            "Epoch 4: train loss = 1.268 (acc: 0.558), validation loss = 1.883 \n",
            "Epoch 5: train loss = 0.982 (acc: 0.669), validation loss = 1.797 \n",
            "Epoch 6: train loss = 0.535 (acc: 0.820), validation loss = 1.841 \n",
            "Epoch 7: train loss = 0.360 (acc: 0.874), validation loss = 1.833 \n",
            "Epoch 8: train loss = 0.321 (acc: 0.890), validation loss = 2.082 \n",
            "Epoch 9: train loss = 0.202 (acc: 0.927), validation loss = 1.952 \n",
            "Epoch 10: train loss = 0.091 (acc: 0.968), validation loss = 2.081 \n",
            "Epoch 11: train loss = 0.057 (acc: 0.982), validation loss = 1.979 \n",
            "Epoch 12: train loss = 0.029 (acc: 0.991), validation loss = 1.962 \n",
            "Epoch 13: train loss = 0.084 (acc: 0.972), validation loss = 2.160 \n",
            "Epoch 14: train loss = 0.211 (acc: 0.933), validation loss = 2.308 \n",
            "Epoch 15: train loss = 0.109 (acc: 0.965), validation loss = 1.847 \n",
            "Epoch 16: train loss = 0.136 (acc: 0.953), validation loss = 2.107 \n",
            "Epoch 17: train loss = 0.052 (acc: 0.984), validation loss = 2.001 \n",
            "Epoch 18: train loss = 0.031 (acc: 0.990), validation loss = 2.101 \n",
            "Epoch 19: train loss = 0.006 (acc: 0.999), validation loss = 1.939 \n",
            "Epoch 20: train loss = 0.003 (acc: 1.000), validation loss = 1.938 \n",
            "Epoch 21: train loss = 0.061 (acc: 0.981), validation loss = 2.326 \n",
            "Epoch 22: train loss = 0.009 (acc: 0.998), validation loss = 2.067 \n",
            "Epoch 23: train loss = 0.055 (acc: 0.981), validation loss = 2.393 \n",
            "Epoch 24: train loss = 0.106 (acc: 0.962), validation loss = 2.580 \n",
            "Epoch 25: train loss = 0.066 (acc: 0.974), validation loss = 2.294 \n",
            "Epoch 26: train loss = 0.134 (acc: 0.958), validation loss = 2.466 \n",
            "Epoch 27: train loss = 0.145 (acc: 0.952), validation loss = 2.474 \n",
            "Epoch 28: train loss = 0.700 (acc: 0.808), validation loss = 3.220 \n",
            "Epoch 29: train loss = 0.275 (acc: 0.914), validation loss = 2.325 \n",
            "Epoch 30: train loss = 0.024 (acc: 0.994), validation loss = 1.973 \n",
            "Epoch 31: train loss = 0.017 (acc: 0.994), validation loss = 2.154 \n",
            "Epoch 32: train loss = 0.018 (acc: 0.994), validation loss = 2.155 \n",
            "Epoch 33: train loss = 0.002 (acc: 1.000), validation loss = 1.956 \n",
            "Epoch 34: train loss = 0.000 (acc: 1.000), validation loss = 1.969 \n",
            "Epoch 35: train loss = 0.000 (acc: 1.000), validation loss = 1.954 \n",
            "Epoch 36: train loss = 0.000 (acc: 1.000), validation loss = 1.958 \n",
            "Epoch 37: train loss = 0.000 (acc: 1.000), validation loss = 1.960 \n",
            "Epoch 38: train loss = 0.000 (acc: 1.000), validation loss = 1.953 \n",
            "Epoch 39: train loss = 0.000 (acc: 1.000), validation loss = 1.951 \n",
            "Epoch 40: train loss = 0.000 (acc: 1.000), validation loss = 1.952 \n",
            "Epoch 41: train loss = 0.000 (acc: 1.000), validation loss = 1.945 \n",
            "Epoch 42: train loss = 0.000 (acc: 1.000), validation loss = 1.956 \n",
            "Epoch 43: train loss = 0.000 (acc: 1.000), validation loss = 1.946 \n",
            "Epoch 44: train loss = 0.000 (acc: 1.000), validation loss = 1.960 \n",
            "Epoch 45: train loss = 0.000 (acc: 1.000), validation loss = 1.961 \n",
            "Epoch 46: train loss = 0.000 (acc: 1.000), validation loss = 1.966 \n",
            "Epoch 47: train loss = 0.000 (acc: 1.000), validation loss = 1.959 \n",
            "Epoch 48: train loss = 0.000 (acc: 1.000), validation loss = 1.953 \n",
            "Epoch 49: train loss = 0.000 (acc: 1.000), validation loss = 1.970 \n",
            "Epoch 50: train loss = 0.000 (acc: 1.000), validation loss = 1.974 \n"
          ]
        }
      ],
      "source": [
        "import torch.optim as optim\n",
        "\n",
        "class SupervisedModel():\n",
        "    def __init__(self, encoder):\n",
        "        self.model = encoder.cuda()\n",
        "\n",
        "    @staticmethod\n",
        "    def count_correct(\n",
        "        y_pred: torch.Tensor,\n",
        "        y_true: torch.Tensor\n",
        "    ) -> torch.Tensor:\n",
        "        preds = torch.argmax(y_pred, dim=1)\n",
        "        return (preds == y_true).float().sum()\n",
        "\n",
        "\n",
        "    def validate_model(\n",
        "        self,\n",
        "        loss_fn,\n",
        "        dataloader: DataLoader\n",
        "    ):\n",
        "\n",
        "        loss = 0\n",
        "        correct = 0\n",
        "        all = 0\n",
        "        with torch.no_grad():\n",
        "            for X_batch, y_batch in dataloader:\n",
        "                X_batch, y_batch = X_batch.cuda(), y_batch.cuda()\n",
        "                y_pred = self.model(X_batch)\n",
        "                all += len(y_pred)\n",
        "                loss += loss_fn(y_pred, y_batch)\n",
        "                correct += SupervisedModel.count_correct(y_pred, y_batch)\n",
        "        return loss / all, correct / all\n",
        "\n",
        "\n",
        "    def train_model(\n",
        "        self,\n",
        "        optimiser: optim.Optimizer,\n",
        "        loss_fn,\n",
        "        train_dl: DataLoader,\n",
        "    ):\n",
        "\n",
        "        self.model.train()\n",
        "\n",
        "        for X_batch, y_batch in train_dl:\n",
        "            X_batch, y_batch = X_batch.cuda(), y_batch.cuda()\n",
        "            y_pred = self.model(X_batch)\n",
        "            loss = loss_fn(y_pred, y_batch)\n",
        "\n",
        "            loss.backward()\n",
        "            optimiser.step()\n",
        "            optimiser.zero_grad()\n",
        "\n",
        "        self.model.eval()\n",
        "\n",
        "\n",
        "    def fit(\n",
        "        self,\n",
        "        loss_fn,\n",
        "        train_dl: DataLoader,\n",
        "        val_dl: DataLoader,\n",
        "        epochs=50\n",
        "    ) -> dict:\n",
        "        results = {\"train_loss\": [], \"train_acc\": [], \"val_loss\": [],\n",
        "                   \"val_acc\": []}\n",
        "        optimiser = optim.AdamW(self.model.parameters())\n",
        "\n",
        "        for epoch in range(epochs):\n",
        "\n",
        "            self.train_model(optimiser, loss_fn, train_dl)\n",
        "            train_loss, train_acc = self.validate_model(loss_fn, train_dl)\n",
        "            val_loss, val_acc = self.validate_model(loss_fn, val_dl)\n",
        "\n",
        "            print(f\"Epoch {epoch + 1}: train loss = {train_loss:.3f} \"\n",
        "             f\"(acc: {train_acc:.3f}), validation loss = {val_loss:.3f} \")\n",
        "            results[\"train_loss\"].append(float(train_loss))\n",
        "            results[\"train_acc\"].append(float(train_acc))\n",
        "            results[\"val_loss\"].append(float(val_loss))\n",
        "            results[\"val_acc\"].append(float(val_acc))\n",
        "\n",
        "        return results\n",
        "\n",
        "def evaluate_baseline():\n",
        "    encoder = torchvision.models.resnet18()\n",
        "    encoder.fc = nn.Linear(512, 10) # Resnet18 is created for 1000 classses so we need to change the last layer\n",
        "    baseline_model = SupervisedModel(encoder)\n",
        "\n",
        "    loss_fn = nn.CrossEntropyLoss(reduction='sum')\n",
        "    return baseline_model.fit(loss_fn, train_loader, val_loader)\n",
        "\n",
        "history_baseline = evaluate_baseline()"
      ]
    },
    {
      "cell_type": "markdown",
      "metadata": {
        "id": "rBTyX-f45Sgj"
      },
      "source": [
        "### Self-Supervised Training with BYOL\n",
        "\n",
        "Now perform the self-supervised training. This is the most computationally intensive part of the script."
      ]
    },
    {
      "cell_type": "code",
      "execution_count": 33,
      "metadata": {
        "id": "gJ29iDu24aOc",
        "colab": {
          "base_uri": "https://localhost:8080/"
        },
        "outputId": "3a2c5400-4752-4cdf-ff55-153f9ab23bb9"
      },
      "outputs": [
        {
          "output_type": "stream",
          "name": "stdout",
          "text": [
            "check\n"
          ]
        },
        {
          "output_type": "stream",
          "name": "stderr",
          "text": [
            "100%|██████████| 39/39 [00:43<00:00,  1.10s/it]\n",
            "100%|██████████| 39/39 [00:20<00:00,  1.86it/s]\n",
            "100%|██████████| 63/63 [00:33<00:00,  1.89it/s]\n"
          ]
        },
        {
          "output_type": "stream",
          "name": "stdout",
          "text": [
            "Epoch 1: train loss = 1.7648, validation loss = 1.7680, time \n"
          ]
        },
        {
          "output_type": "stream",
          "name": "stderr",
          "text": [
            "100%|██████████| 39/39 [00:43<00:00,  1.11s/it]\n",
            "100%|██████████| 39/39 [00:21<00:00,  1.85it/s]\n",
            "100%|██████████| 63/63 [00:33<00:00,  1.90it/s]\n"
          ]
        },
        {
          "output_type": "stream",
          "name": "stdout",
          "text": [
            "Epoch 2: train loss = 1.7504, validation loss = 1.7611, time \n"
          ]
        },
        {
          "output_type": "stream",
          "name": "stderr",
          "text": [
            "100%|██████████| 39/39 [00:42<00:00,  1.10s/it]\n",
            "100%|██████████| 39/39 [00:20<00:00,  1.86it/s]\n",
            "100%|██████████| 63/63 [00:33<00:00,  1.89it/s]\n"
          ]
        },
        {
          "output_type": "stream",
          "name": "stdout",
          "text": [
            "Epoch 3: train loss = 1.6639, validation loss = 1.6403, time \n"
          ]
        },
        {
          "output_type": "stream",
          "name": "stderr",
          "text": [
            "100%|██████████| 39/39 [00:42<00:00,  1.10s/it]\n",
            "100%|██████████| 39/39 [00:21<00:00,  1.84it/s]\n",
            "100%|██████████| 63/63 [00:33<00:00,  1.88it/s]\n"
          ]
        },
        {
          "output_type": "stream",
          "name": "stdout",
          "text": [
            "Epoch 4: train loss = 1.5160, validation loss = 1.5242, time \n"
          ]
        },
        {
          "output_type": "stream",
          "name": "stderr",
          "text": [
            "100%|██████████| 39/39 [00:42<00:00,  1.10s/it]\n",
            "100%|██████████| 39/39 [00:20<00:00,  1.87it/s]\n",
            "100%|██████████| 63/63 [00:33<00:00,  1.90it/s]\n"
          ]
        },
        {
          "output_type": "stream",
          "name": "stdout",
          "text": [
            "Epoch 5: train loss = 1.3234, validation loss = 1.3404, time \n"
          ]
        },
        {
          "output_type": "stream",
          "name": "stderr",
          "text": [
            "100%|██████████| 39/39 [00:42<00:00,  1.10s/it]\n",
            "100%|██████████| 39/39 [00:21<00:00,  1.84it/s]\n",
            "100%|██████████| 63/63 [00:33<00:00,  1.90it/s]\n"
          ]
        },
        {
          "output_type": "stream",
          "name": "stdout",
          "text": [
            "Epoch 6: train loss = 1.3026, validation loss = 1.2831, time \n"
          ]
        },
        {
          "output_type": "stream",
          "name": "stderr",
          "text": [
            "100%|██████████| 39/39 [00:42<00:00,  1.10s/it]\n",
            "100%|██████████| 39/39 [00:20<00:00,  1.86it/s]\n",
            "100%|██████████| 63/63 [00:33<00:00,  1.88it/s]\n"
          ]
        },
        {
          "output_type": "stream",
          "name": "stdout",
          "text": [
            "Epoch 7: train loss = 1.2375, validation loss = 1.2500, time \n"
          ]
        },
        {
          "output_type": "stream",
          "name": "stderr",
          "text": [
            "100%|██████████| 39/39 [00:42<00:00,  1.10s/it]\n",
            "100%|██████████| 39/39 [00:20<00:00,  1.87it/s]\n",
            "100%|██████████| 63/63 [00:33<00:00,  1.89it/s]\n"
          ]
        },
        {
          "output_type": "stream",
          "name": "stdout",
          "text": [
            "Epoch 8: train loss = 1.2193, validation loss = 1.2212, time \n"
          ]
        },
        {
          "output_type": "stream",
          "name": "stderr",
          "text": [
            "100%|██████████| 39/39 [00:42<00:00,  1.09s/it]\n",
            "100%|██████████| 39/39 [00:20<00:00,  1.87it/s]\n",
            "100%|██████████| 63/63 [00:33<00:00,  1.90it/s]\n"
          ]
        },
        {
          "output_type": "stream",
          "name": "stdout",
          "text": [
            "Epoch 9: train loss = 1.2374, validation loss = 1.2580, time \n"
          ]
        },
        {
          "output_type": "stream",
          "name": "stderr",
          "text": [
            "100%|██████████| 39/39 [00:42<00:00,  1.09s/it]\n",
            "100%|██████████| 39/39 [00:21<00:00,  1.85it/s]\n",
            "100%|██████████| 63/63 [00:33<00:00,  1.90it/s]"
          ]
        },
        {
          "output_type": "stream",
          "name": "stdout",
          "text": [
            "Epoch 10: train loss = 1.2357, validation loss = 1.2175, time \n"
          ]
        },
        {
          "output_type": "stream",
          "name": "stderr",
          "text": [
            "\n"
          ]
        }
      ],
      "source": [
        "encoder = torchvision.models.resnet18()\n",
        "encoder.fc = nn.Identity()\n",
        "model = BYOL(encoder, default_augmentation(), default_augmentation(), encoder_out_shape = 512).cuda()\n",
        "history = model.fit(train_loader, val_loader, 10)"
      ]
    },
    {
      "cell_type": "code",
      "source": [
        "del classifier\n",
        "\n"
      ],
      "metadata": {
        "id": "T8zMyeD_UTXc"
      },
      "execution_count": 28,
      "outputs": []
    },
    {
      "cell_type": "markdown",
      "metadata": {
        "id": "WjMmW9Tj5k-j"
      },
      "source": [
        "### Supervised Training Again\n",
        "\n",
        "Extract the encoder network's state dictionary from BYOL, and load it into our ResNet18 model before starting training.  Then run supervised training, and watch the accuracy improve from last time!"
      ]
    },
    {
      "cell_type": "code",
      "execution_count": 34,
      "metadata": {
        "id": "JT3ueQrcBeTZ",
        "colab": {
          "base_uri": "https://localhost:8080/",
          "height": 1000
        },
        "outputId": "5b9177b8-3179-42f7-d86c-f946dd500afa"
      },
      "outputs": [
        {
          "output_type": "stream",
          "name": "stdout",
          "text": [
            "Epoch 1: train loss = 1.620 (acc: 0.390), validation loss = 1.654 \n",
            "Epoch 2: train loss = 1.657 (acc: 0.381), validation loss = 1.690 \n",
            "Epoch 3: train loss = 1.740 (acc: 0.423), validation loss = 1.848 \n",
            "Epoch 4: train loss = 1.260 (acc: 0.532), validation loss = 1.403 \n",
            "Epoch 5: train loss = 1.201 (acc: 0.559), validation loss = 1.406 \n",
            "Epoch 6: train loss = 1.028 (acc: 0.620), validation loss = 1.350 \n",
            "Epoch 7: train loss = 0.945 (acc: 0.659), validation loss = 1.396 \n",
            "Epoch 8: train loss = 0.636 (acc: 0.771), validation loss = 1.337 \n",
            "Epoch 9: train loss = 0.688 (acc: 0.767), validation loss = 1.688 \n",
            "Epoch 10: train loss = 0.323 (acc: 0.889), validation loss = 1.486 \n",
            "Epoch 11: train loss = 0.290 (acc: 0.901), validation loss = 1.638 \n",
            "Epoch 12: train loss = 0.304 (acc: 0.892), validation loss = 1.876 \n",
            "Epoch 13: train loss = 0.609 (acc: 0.817), validation loss = 2.650 \n",
            "Epoch 14: train loss = 0.230 (acc: 0.920), validation loss = 2.037 \n",
            "Epoch 15: train loss = 0.068 (acc: 0.980), validation loss = 1.926 \n",
            "Epoch 16: train loss = 0.121 (acc: 0.956), validation loss = 2.098 \n",
            "Epoch 17: train loss = 0.042 (acc: 0.988), validation loss = 2.007 \n",
            "Epoch 18: train loss = 0.041 (acc: 0.988), validation loss = 1.951 \n",
            "Epoch 19: train loss = 0.120 (acc: 0.958), validation loss = 2.424 \n",
            "Epoch 20: train loss = 0.034 (acc: 0.988), validation loss = 2.187 \n",
            "Epoch 21: train loss = 0.006 (acc: 0.999), validation loss = 1.938 \n",
            "Epoch 22: train loss = 0.005 (acc: 0.999), validation loss = 2.007 \n",
            "Epoch 23: train loss = 0.003 (acc: 0.999), validation loss = 1.951 \n",
            "Epoch 24: train loss = 0.002 (acc: 0.999), validation loss = 1.957 \n",
            "Epoch 25: train loss = 0.001 (acc: 1.000), validation loss = 2.016 \n",
            "Epoch 26: train loss = 0.001 (acc: 1.000), validation loss = 1.974 \n",
            "Epoch 27: train loss = 0.000 (acc: 1.000), validation loss = 1.963 \n",
            "Epoch 28: train loss = 0.002 (acc: 1.000), validation loss = 1.987 \n",
            "Epoch 29: train loss = 0.013 (acc: 0.996), validation loss = 2.217 \n",
            "Epoch 30: train loss = 0.378 (acc: 0.889), validation loss = 2.791 \n",
            "Epoch 31: train loss = 0.432 (acc: 0.869), validation loss = 2.757 \n",
            "Epoch 32: train loss = 0.317 (acc: 0.890), validation loss = 2.326 \n",
            "Epoch 33: train loss = 0.045 (acc: 0.986), validation loss = 2.067 \n",
            "Epoch 34: train loss = 0.057 (acc: 0.979), validation loss = 2.170 \n",
            "Epoch 35: train loss = 0.011 (acc: 0.998), validation loss = 2.091 \n",
            "Epoch 36: train loss = 0.006 (acc: 0.999), validation loss = 2.005 \n",
            "Epoch 37: train loss = 0.002 (acc: 1.000), validation loss = 2.002 \n",
            "Epoch 38: train loss = 0.001 (acc: 1.000), validation loss = 2.002 \n",
            "Epoch 39: train loss = 0.004 (acc: 0.999), validation loss = 2.075 \n",
            "Epoch 40: train loss = 0.009 (acc: 0.998), validation loss = 2.072 \n",
            "Epoch 41: train loss = 0.009 (acc: 0.998), validation loss = 2.192 \n",
            "Epoch 42: train loss = 0.014 (acc: 0.995), validation loss = 2.138 \n",
            "Epoch 43: train loss = 0.010 (acc: 0.998), validation loss = 2.116 \n",
            "Epoch 44: train loss = 0.002 (acc: 0.999), validation loss = 2.149 \n",
            "Epoch 45: train loss = 0.003 (acc: 1.000), validation loss = 2.225 \n",
            "Epoch 46: train loss = 0.003 (acc: 0.999), validation loss = 2.141 \n",
            "Epoch 47: train loss = 0.008 (acc: 0.998), validation loss = 2.293 \n",
            "Epoch 48: train loss = 0.001 (acc: 1.000), validation loss = 2.243 \n",
            "Epoch 49: train loss = 0.071 (acc: 0.977), validation loss = 2.550 \n",
            "Epoch 50: train loss = 0.020 (acc: 0.993), validation loss = 2.420 \n"
          ]
        },
        {
          "output_type": "display_data",
          "data": {
            "text/plain": [
              "<Figure size 640x480 with 1 Axes>"
            ],
            "image/png": "[encoded data removed]"
          },
          "metadata": {}
        },
        {
          "output_type": "display_data",
          "data": {
            "text/plain": [
              "<Figure size 640x480 with 1 Axes>"
            ],
            "image/png": "[encoded data removed]"
          },
          "metadata": {}
        }
      ],
      "source": [
        "state_dict = model.encoder_online.state_dict()\n",
        "encoder_post = torchvision.models.resnet18()\n",
        "encoder_post.fc = nn.Identity()\n",
        "encoder_post.load_state_dict(state_dict)\n",
        "# for param in encoder_post.parameters():\n",
        "#     param.requires_grad = False\n",
        "\n",
        "encoder_post.fc = nn.Linear(512, 10)\n",
        "\n",
        "semi_sup_model = SupervisedModel(encoder_post)\n",
        "loss_fn = nn.CrossEntropyLoss(reduction='sum')\n",
        "history = semi_sup_model.fit(loss_fn, train_loader, val_loader)\n",
        "\n",
        "import matplotlib.pyplot as plt\n",
        "\n",
        "epochs_x = list(range(1, 51))\n",
        "\n",
        "plt.plot(epochs_x, history_baseline[\"val_loss\"], \"#FFC20A\", label=\"supervised\")\n",
        "plt.plot(epochs_x, history[\"val_loss\"], \"#0C7BDC\", label=\"semi-supervised\")\n",
        "plt.title(\"Loss (50 epochs)\")\n",
        "plt.legend()\n",
        "plt.show()\n",
        "\n",
        "plt.plot(epochs_x, history[\"val_acc\"], \"#0C7BDC\", label=\"semi-supervised\")\n",
        "plt.plot(epochs_x, history_baseline[\"val_acc\"], \"#FFC20A\", label=\"supervised\")\n",
        "plt.title(\"Accuracy\")\n",
        "plt.legend()\n",
        "plt.show()"
      ]
    }
  ],
  "metadata": {
    "colab": {
      "provenance": [],
      "gpuType": "T4"
    },
    "kernelspec": {
      "display_name": "Python 3",
      "name": "python3"
    },
    "language_info": {
      "codemirror_mode": {
        "name": "ipython",
        "version": 3
      },
      "file_extension": ".py",
      "mimetype": "text/x-python",
      "name": "python",
      "nbconvert_exporter": "python",
      "pygments_lexer": "ipython3",
      "version": "3.10.9"
    },
    "accelerator": "GPU"
  },
  "nbformat": 4,
  "nbformat_minor": 0
}